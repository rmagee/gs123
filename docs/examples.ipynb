{
 "cells": [
  {
   "cell_type": "markdown",
   "metadata": {},
   "source": [
    "# Using the GS123 Python Module"
   ]
  },
  {
   "cell_type": "markdown",
   "metadata": {},
   "source": [
    "## Converting GTIN-14 Barcodes\n",
    "The GS123 Module is primarily used to convert GTIN-14 barcodes, URNs and other GS1 identifiers of different types.  This section will highlight how to deal with GS1 GTIN-14 barcodes of different types.  The first thing we will do is import the library's `conversion` module."
   ]
  },
  {
   "cell_type": "code",
   "execution_count": null,
   "metadata": {},
   "outputs": [],
   "source": [
    "from gs123 import conversion\n",
    "\n",
    "# here we create a new GTIN converter and pass in a GTIN (01 21) string along\n",
    "# with the legnth of the company prefix in the GTIN-14 portion (6 is the default)\n",
    "converter = conversion.GTIN14BarcodeConverter('011234567890123421123456789012',6)\n",
    "# then we have access to the properties of the GTIN and the serial number\n",
    "print(converter.check_digit)\n",
    "print(converter.company_prefix)\n",
    "print(converter.epc_urn)\n",
    "print(converter.gtin14)\n",
    "print(converter.indicator_digit)\n",
    "print(converter.item_reference)"
   ]
  }
 ],
 "metadata": {},
 "nbformat": 4,
 "nbformat_minor": 0
}
