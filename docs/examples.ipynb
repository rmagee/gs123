{
 "cells": [
  {
   "cell_type": "markdown",
   "metadata": {},
   "source": [
    "# Using the GS123 Python Module"
   ]
  },
  {
   "cell_type": "code",
   "execution_count": null,
   "metadata": {},
   "outputs": [],
   "source": [
    "import os\n",
    "import sys\n",
    "nb_dir = os.path.split(os.getcwd())[0]\n",
    "if nb_dir not in sys.path:\n",
    "    sys.path.append(nb_dir)"
   ]
  },
  {
   "cell_type": "markdown",
   "metadata": {},
   "source": [
    "## Converting GTIN-14 Barcodes\n",
    "The GS123 Module is primarily used to convert GTIN-14 barcodes, URNs and other GS1 identifiers of different types.  This section will highlight how to deal with GS1 GTIN-14 barcodes of different types.  The first thing we will do is import the library's `conversion` module.  Then we pass in barcode string along with a company prefix length indicator.  After that, as you can see, we have access to all of the constituent parts of the GTIN along with a URN representation of that GTIN barcode.\n",
    "\n",
    "### 01-21 With No Parenthesis"
   ]
  },
  {
   "cell_type": "code",
   "execution_count": null,
   "metadata": {},
   "outputs": [],
   "source": [
    "from gs123 import conversion\n",
    "\n",
    "# here we create a new GTIN converter and pass in a GTIN (01 21) string along\n",
    "# with the legnth of the company prefix in the GTIN-14 portion (6 is the default)\n",
    "converter = conversion.BarcodeConverter('011234567890123421123456789012',6)\n",
    "# then we have access to the properties of the GTIN and the serial number\n",
    "print(converter.check_digit)\n",
    "print(converter.company_prefix)\n",
    "print(converter.epc_urn)\n",
    "print(converter.gtin14)\n",
    "print(converter.serial_number)\n",
    "print(converter.serial_number_field)\n",
    "print(converter.indicator_digit)\n",
    "print(converter.item_reference)"
   ]
  },
  {
   "cell_type": "markdown",
   "metadata": {},
   "source": [
    "### 01-21 With Parenthesis (GS1 App Identifiers)"
   ]
  },
  {
   "cell_type": "code",
   "execution_count": null,
   "metadata": {},
   "outputs": [],
   "source": [
    "from gs123 import conversion\n",
    "\n",
    "# here we create a new GTIN converter and pass in a GTIN (01 21) string along\n",
    "# with the legnth of the company prefix in the GTIN-14 portion (6 is the default)\n",
    "converter = conversion.BarcodeConverter('(01)12345678901234(21)123456789012',6)\n",
    "# then we have access to the properties of the GTIN and the serial number\n",
    "print(converter.check_digit)\n",
    "print(converter.company_prefix)\n",
    "print(converter.epc_urn)\n",
    "print(converter.gtin14)\n",
    "print(converter.serial_number)\n",
    "print(converter.serial_number_field)\n",
    "print(converter.indicator_digit)\n",
    "print(converter.item_reference)"
   ]
  },
  {
   "cell_type": "markdown",
   "metadata": {},
   "source": [
    "### 01-21-17-10 Without Parenthesis (Fixed Serial Number Field Length)\n",
    "\n",
    "Below we will parse a serialized GTIN barcode value with a expiration date and lot fields.  This value below does not have any parenthesis around its application identifiers so we need a hint in the constructor for the lenght of the serial number (in this case 12).  If there is an FNC1 character at the end of the serial-number, this is not required."
   ]
  },
  {
   "cell_type": "code",
   "execution_count": null,
   "metadata": {},
   "outputs": [],
   "source": [
    "converter = conversion.BarcodeConverter(\n",
    "    '0100312345678901210000000000011719123110ABC123',\n",
    "    company_prefix_length=6,\n",
    "    serial_number_length=12\n",
    ")\n",
    "print(converter.check_digit)\n",
    "print(converter.company_prefix)\n",
    "print(converter.epc_urn)\n",
    "print(converter.gtin14)\n",
    "print(converter.indicator_digit)\n",
    "print(converter.item_reference)\n",
    "print(converter.lot)\n",
    "print(converter.expiration_date)\n"
   ]
  },
  {
   "cell_type": "markdown",
   "metadata": {},
   "source": [
    "### 01-21-17-10 Without Parenthesis (FNC1 Delimiter for Serial Number)\n",
    "\n",
    "Since the serial number field in a typical serialized barcode is variable length, we either need to know the length ahead of time or need a delimiter such as the parenthesis around the app identifiers or a FNC1 delimiter which is a hidden character (ASCII hex value x1d).  Below we parse a barcode with an FNC1 delimiter.\n",
    "\n"
   ]
  },
  {
   "cell_type": "code",
   "execution_count": null,
   "metadata": {},
   "outputs": [],
   "source": [
    "converter = conversion.BarcodeConverter(\n",
    "    '010031234567890121000000000001\\x1D1719123110ABC123',\n",
    "    company_prefix_length=6\n",
    ")\n",
    "print(converter.check_digit)\n",
    "print(converter.company_prefix)\n",
    "print(converter.epc_urn)\n",
    "print(converter.gtin14)\n",
    "print(converter.serial_number)\n",
    "print(converter.serial_number_field)\n",
    "print(converter.indicator_digit)\n",
    "print(converter.item_reference)\n",
    "print(converter.lot)\n",
    "print(converter.expiration_date)"
   ]
  },
  {
   "cell_type": "markdown",
   "metadata": {},
   "source": [
    "### 01-21-17-10 With Parenthesis\n",
    "\n",
    "Here we have the parenthesis around the app identifiers..."
   ]
  },
  {
   "cell_type": "code",
   "execution_count": null,
   "metadata": {},
   "outputs": [],
   "source": [
    "converter = conversion.BarcodeConverter(\n",
    "    '(01)00312345678901(21)000000000001(17)191231(10)ABC123',\n",
    "    company_prefix_length=6\n",
    ")\n",
    "print(converter.check_digit)\n",
    "print(converter.company_prefix)\n",
    "print(converter.epc_urn)\n",
    "print(converter.gtin14)\n",
    "print(converter.serial_number)\n",
    "print(converter.serial_number_field)\n",
    "print(converter.indicator_digit)\n",
    "print(converter.item_reference)\n",
    "print(converter.lot)\n",
    "print(converter.expiration_date)"
   ]
  },
  {
   "cell_type": "markdown",
   "metadata": {},
   "source": [
    "## SSCC-18 Conversion\n",
    "\n",
    "You can use the same class to convert SSCC-18s, the only difference being that you'll be accessing different properties of the class for the extension digit along with the SSCC-18 value and that some of the properties unique to GTIN-14s will be `None`.\n",
    "\n",
    "### SSCC-18 No Parenthesis"
   ]
  },
  {
   "cell_type": "code",
   "execution_count": null,
   "metadata": {},
   "outputs": [],
   "source": [
    "converter = conversion.BarcodeConverter(\n",
    "    '(00)012345612345678907',\n",
    "    6\n",
    ")\n",
    "print(converter.check_digit)\n",
    "print(converter.company_prefix)\n",
    "print(converter.epc_urn)\n",
    "print(converter.extension_digit)\n",
    "print(converter.sscc18)\n",
    "print(converter.serial_number)\n",
    "print(converter.serial_number_field)\n"
   ]
  },
  {
   "cell_type": "markdown",
   "metadata": {},
   "source": [
    "### SSCC-18 No Parenthesis"
   ]
  },
  {
   "cell_type": "code",
   "execution_count": null,
   "metadata": {},
   "outputs": [],
   "source": [
    "converter = conversion.BarcodeConverter(\n",
    "    '00012345612345678907',\n",
    "    6\n",
    ")\n",
    "print(converter.check_digit)\n",
    "print(converter.company_prefix)\n",
    "print(converter.epc_urn)\n",
    "print(converter.extension_digit)\n",
    "print(converter.sscc18)\n",
    "print(converter.serial_number)\n",
    "print(converter.serial_number_field)"
   ]
  },
  {
   "cell_type": "markdown",
   "metadata": {},
   "source": [
    "# XML File and String Conversion\n",
    "The `gs123.xml_conversion` module will parse XML structures in either string or file format and convert any barcode values it finds within the elements of an XML document.  To convert an entire file from the command line you can use the following syntax:\n",
    "\n",
    "`python gs123conversion.py --input-file=../tests/data/serialnumbers.xml --output-file=../tests/data/urns.xml`\n",
    "\n",
    "To convert a string or bytes read from a file programmatically, do the following:\n"
   ]
  },
  {
   "cell_type": "code",
   "execution_count": null,
   "metadata": {},
   "outputs": [],
   "source": [
    "from gs123.xml_conversion import convert_xml_string\n",
    "data = \"\"\"<?xml version='1.0' encoding='UTF-8'?>\n",
    "        <sns>\n",
    "            <sn>0100377713112102211RFXVHNPA111</sn>\n",
    "            <sn>01003777131121022114R2FANWAG12</sn>\n",
    "            <sn>0100377713112102212FWA6AVK7614</sn>\n",
    "            <sn>0100377713112102212NN3NG5VK415</sn>\n",
    "            <sn>01003777131121022119KNN3H4A145</sn>\n",
    "            <sn>01003777131121022125P4N3X8NP45</sn>\n",
    "            <sn>01003777131121022116326N1GFV75</sn>\n",
    "            <sn>010037771311210221148NNK9N7488</sn>\n",
    "            <sn>01003777131121022115WANPT8KR34</sn>\n",
    "            <sn>01003777131121022113CK6FRH7R88</sn>\n",
    "            <sn>0100377713112102211X769VGH1G7J</sn>\n",
    "            <sn>010037771311210221325NV1T32FSD</sn>\n",
    "            <sn>01003777131121022117F4VTPWR5CV</sn>\n",
    "            <sn>0100377713112102212P5W5R9WRGED</sn>\n",
    "            <sn>0100377713112102211NK693FK75FF</sn>\n",
    "            <sn>0100377713112102212F397C3455LM</sn>\n",
    "            <sn>0100377713112102212F76HPVFF5ED</sn>\n",
    "            <sn>0100377713112102212CWRCFTTPTEW</sn>\n",
    "            <sn>0100377713112102211N3F9PTP14DF</sn>\n",
    "            <sn>010037771311210221245RV96KFHJK</sn>\n",
    "        </sns>\"\"\"\n",
    "converted_data = convert_xml_string(data, company_prefix_length=6)\n",
    "print(converted_data.decode('utf-8'))"
   ]
  },
  {
   "cell_type": "code",
   "execution_count": null,
   "metadata": {},
   "outputs": [],
   "source": []
  }
 ],
 "metadata": {
  "kernelspec": {
   "display_name": "Python 3",
   "language": "python",
   "name": "python3"
  },
  "language_info": {
   "codemirror_mode": {
    "name": "ipython",
    "version": 3
   },
   "file_extension": ".py",
   "mimetype": "text/x-python",
   "name": "python",
   "nbconvert_exporter": "python",
   "pygments_lexer": "ipython3",
   "version": "3.6.4"
  }
 },
 "nbformat": 4,
 "nbformat_minor": 1
}
